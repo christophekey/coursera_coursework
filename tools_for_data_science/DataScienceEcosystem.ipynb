{
 "cells": [
  {
   "metadata": {},
   "cell_type": "markdown",
   "source": "# Data Science Tools and Ecosystem\n",
   "id": "a9201e34eff1b9ff"
  },
  {
   "metadata": {},
   "cell_type": "markdown",
   "source": "In this notebook, Data Science Tools and Ecosystem are summarized.",
   "id": "bad3bf11fc3d62c9"
  },
  {
   "metadata": {},
   "cell_type": "markdown",
   "source": [
    "__Objectives:__\n",
    "\n",
    "- List some of the popular languages that Data Scientists use.\n",
    "- List some of the common libraries used by Data Scientists.\n",
    "- List some of the Data Science Tools used by Data Scientists.\n",
    "- Give an example of arthimetric expressions using Python.\n"
   ],
   "id": "e3f5672403dd0b1c"
  },
  {
   "metadata": {},
   "cell_type": "markdown",
   "source": [
    "Some of the popular languages that Data Scientists use are:\n",
    "\n",
    "1. Python\n",
    "2. R\n",
    "3. SQL"
   ],
   "id": "2b1cb32e052670c6"
  },
  {
   "metadata": {},
   "cell_type": "markdown",
   "source": [
    "Some of the commonly used libraries used by Data Scientists include:\n",
    "\n",
    "1. Pandas\n",
    "2. Numpy\n",
    "3. Scikit-Learn / SKLearn\n",
    "4. Plotly\n",
    "5. Matplotlib"
   ],
   "id": "b353b9eacb849b16"
  },
  {
   "metadata": {},
   "cell_type": "markdown",
   "source": [
    "| Data Science Tools |\n",
    "|:------------------:|\n",
    "|     JupyterLab     |\n",
    "|      R Studio      |\n",
    "|      PyCharm       |\n"
   ],
   "id": "8d7908b101dd63d4"
  },
  {
   "metadata": {},
   "cell_type": "markdown",
   "source": "Below are a few examples of evaluating arithmetic expressions in Python",
   "id": "8ba24c445119cbe"
  },
  {
   "metadata": {
    "ExecuteTime": {
     "end_time": "2025-01-03T18:01:00.075013Z",
     "start_time": "2025-01-03T18:01:00.065846Z"
    }
   },
   "cell_type": "code",
   "source": [
    "(3*4)+5\n",
    "\n",
    "#This a simple arithmetic expression to multiply then add integers"
   ],
   "id": "cc19b87587828b95",
   "outputs": [
    {
     "data": {
      "text/plain": [
       "17"
      ]
     },
     "execution_count": 1,
     "metadata": {},
     "output_type": "execute_result"
    }
   ],
   "execution_count": 1
  },
  {
   "metadata": {
    "ExecuteTime": {
     "end_time": "2025-01-03T18:03:03.522166Z",
     "start_time": "2025-01-03T18:03:03.516671Z"
    }
   },
   "cell_type": "code",
   "source": [
    "#This will convert 200 minutes to hours by diving by 60\n",
    "\n",
    "200/60"
   ],
   "id": "7fe29a96be124a53",
   "outputs": [
    {
     "data": {
      "text/plain": [
       "3.3333333333333335"
      ]
     },
     "execution_count": 2,
     "metadata": {},
     "output_type": "execute_result"
    }
   ],
   "execution_count": 2
  },
  {
   "metadata": {},
   "cell_type": "markdown",
   "source": [
    "## Author\n",
    "Christopher Kettell"
   ],
   "id": "2772672af6cca0ae"
  },
  {
   "metadata": {},
   "cell_type": "code",
   "outputs": [],
   "execution_count": null,
   "source": "",
   "id": "a4109f52e0973606"
  }
 ],
 "metadata": {
  "kernelspec": {
   "display_name": "Python 3",
   "language": "python",
   "name": "python3"
  },
  "language_info": {
   "codemirror_mode": {
    "name": "ipython",
    "version": 2
   },
   "file_extension": ".py",
   "mimetype": "text/x-python",
   "name": "python",
   "nbconvert_exporter": "python",
   "pygments_lexer": "ipython2",
   "version": "2.7.6"
  }
 },
 "nbformat": 4,
 "nbformat_minor": 5
}
